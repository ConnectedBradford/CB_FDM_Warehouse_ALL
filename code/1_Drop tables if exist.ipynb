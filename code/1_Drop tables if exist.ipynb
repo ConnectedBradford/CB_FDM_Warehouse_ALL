{
 "cells": [
  {
   "cell_type": "code",
   "execution_count": 7,
   "id": "e86d5a61-23db-4dd7-b17a-5c78eb4f17cd",
   "metadata": {},
   "outputs": [],
   "source": [
    "\n",
    "library(bigrquery)\n",
    "library(lubridate) \n",
    "\n",
    "# Store the project ID\n",
    "project_id = \"yhcr-prd-phm-bia-core\"\n",
    "\n",
    "sourcedb <-\"yhcr-prd-phm-bia-core.CB_MYSPACE_JDB\"\n",
    "\n"
   ]
  },
  {
   "cell_type": "code",
   "execution_count": 10,
   "id": "fbd5a61a-b76e-4076-9753-06b06cab43e3",
   "metadata": {},
   "outputs": [
    {
     "data": {
      "text/html": [
       "<table class=\"dataframe\">\n",
       "<caption>A tibble: 0 × 1</caption>\n",
       "<thead>\n",
       "\t<tr><th scope=col>table_name</th></tr>\n",
       "\t<tr><th scope=col>&lt;chr&gt;</th></tr>\n",
       "</thead>\n",
       "<tbody>\n",
       "</tbody>\n",
       "</table>\n"
      ],
      "text/latex": [
       "A tibble: 0 × 1\n",
       "\\begin{tabular}{l}\n",
       " table\\_name\\\\\n",
       " <chr>\\\\\n",
       "\\hline\n",
       "\\end{tabular}\n"
      ],
      "text/markdown": [
       "\n",
       "A tibble: 0 × 1\n",
       "\n",
       "| table_name &lt;chr&gt; |\n",
       "|---|\n",
       "\n"
      ],
      "text/plain": [
       "     table_name"
      ]
     },
     "metadata": {},
     "output_type": "display_data"
    }
   ],
   "source": [
    "#Using a loop to make the text nuill into actual nulls\n",
    "#Your loop references this table\n",
    "#You run this to load the list of tables into the dataframe \"table\"\n",
    "\n",
    "sql3 <-paste('select table_name from ' ,sourcedb,'.INFORMATION_SCHEMA.TABLES where table_name like \"tbl_%\" or table_name  like \"cb_%\"  ;', sep = \"\")\n",
    "tb3 <- bq_project_query(project_id, sql3)\n",
    "\n",
    "table <- bq_table_download(tb3)\n",
    "table "
   ]
  },
  {
   "cell_type": "code",
   "execution_count": 9,
   "id": "4b32da8c-6757-465f-805a-e18a89f5ced4",
   "metadata": {},
   "outputs": [
    {
     "name": "stdout",
     "output_type": "stream",
     "text": [
      "[1] \"Dropped 2024-04-20 10:32:02.154445\"\n"
     ]
    }
   ],
   "source": [
    "#This then loops through the data frame until the end\n",
    "# uses the two variables table[[i, 1]] and table[[i, 2]]\n",
    "# in the query\n",
    "\n",
    "for(i in 2:nrow(table)) \n",
    "{\n",
    "# for-loop over columns\n",
    "#    print(paste0(\"Table: \", table[[i, 1]]))\n",
    "#    print(paste0(\"Table: \", table[[i, 2]]))\n",
    "    temp_sql_query  <-paste('drop table  ' ,sourcedb,'.',table[[i, 1]] ,';'  , sep = \"\") \n",
    "#    print (temp_sql_query)    \n",
    "    temp_queried_table <- bq_project_query(project_id, temp_sql_query)\n",
    "    #section below just brings this back to R \n",
    "    #temp_table <- bq_table_download(temp_queried_table)\n",
    "\n",
    "    #Prints out a confirmation message for each update\n",
    "    #print(paste0(\"Done: \", table[[1, 1]],' ', table[[1, 2]]))\n",
    "    #cat(\"\\n\")\n",
    "}\n",
    "\n",
    "\n",
    "fred <-paste('Dropped ' ,Sys.time() + hours(1), sep = \"\")\n",
    "print (fred)\n",
    "\n"
   ]
  },
  {
   "cell_type": "code",
   "execution_count": null,
   "id": "cdf958c5-5f26-46c9-a0be-e424e9b7010e",
   "metadata": {},
   "outputs": [],
   "source": []
  }
 ],
 "metadata": {
  "environment": {
   "kernel": "ir",
   "name": "r-cpu.4-2.m110",
   "type": "gcloud",
   "uri": "gcr.io/deeplearning-platform-release/r-cpu.4-2:m110"
  },
  "kernelspec": {
   "display_name": "R",
   "language": "R",
   "name": "ir"
  },
  "language_info": {
   "codemirror_mode": "r",
   "file_extension": ".r",
   "mimetype": "text/x-r-source",
   "name": "R",
   "pygments_lexer": "r",
   "version": "4.3.1"
  }
 },
 "nbformat": 4,
 "nbformat_minor": 5
}
