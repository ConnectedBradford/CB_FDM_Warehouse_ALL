{
 "cells": [
  {
   "cell_type": "code",
   "execution_count": 78,
   "id": "79f3661f-676d-4c14-abd3-02660031f1e2",
   "metadata": {},
   "outputs": [
    {
     "name": "stdout",
     "output_type": "stream",
     "text": [
      "[1] \"yhcr-prd-phm-bia-core.CB_FDM_Warehouse_ALL\"\n"
     ]
    }
   ],
   "source": [
    "#Make_Warehouse_FDM_FULL_V1.0.ipynb\n",
    "##Make_Warehouse_FDM_FULL_V1.0.ipynb - last modified 20230222 \n",
    "#Builds the Warehouse FDM\n",
    "#Assumes that the targetdb below exists\n",
    "#Needs code to build it if it doesn't\n",
    "\n",
    "#You will need to manually amend the target dataset for this script\n",
    "\n",
    "library(bigrquery)\n",
    "\n",
    "# Store the project ID\n",
    "project_id = \"yhcr-prd-phm-bia-core\"\n",
    "\n",
    "sourcedb <-\"yhcr-prd-phm-bia-core.CB_STAGING_DATABASE_WAREHOUSE_FDM_Format\"\n",
    "targetdb <-'yhcr-prd-phm-bia-core.CB_FDM_Warehouse_ALL'\n",
    "targetdb <-gsub(' ','',targetdb)\n",
    "print (targetdb)"
   ]
  },
  {
   "cell_type": "code",
   "execution_count": 23,
   "id": "9465f23c-da4d-40fc-b404-3a1cf1f189c4",
   "metadata": {},
   "outputs": [
    {
     "name": "stdout",
     "output_type": "stream",
     "text": [
      "[1] \"Done care site\"\n"
     ]
    }
   ],
   "source": [
    "# Qmak_PrimaryCareCY_FDM_Warehouse_V1.0_Person_Table\n",
    "# Last modified 20230222 - JdDB\n",
    "# Last run 20230222 \n",
    "\n",
    "\n",
    "#build care sites just for Warehouse sites\n",
    "\n",
    "#NOTE - THIS WHOLE SECTION NEEDS WORK\n",
    "\n",
    "sql1 <-paste('drop table if exists ',targetdb,'.care_site', sep = \"\")\n",
    "#sql2<- paste('drop table if exists ' ,targetdb,'.tmp_orgs', sep = \"\")\n",
    "#sql3<- paste('drop table if exists ' ,targetdb,'.tmp_orgs2', sep = \"\")\n",
    "\n",
    "#make the temp org tables \n",
    "#sql4 <-paste('create table ' ,targetdb,'.tmp_orgs as select distinct IDOrganisation from ',sourcedb,'.tbl_SRCode', sep = \"\")\n",
    "#sql5 <-paste('insert into ' ,targetdb,'.tmp_orgs select distinct IDOrganisationDoneAt from ',sourcedb,'.tbl_SRCode', sep = \"\")\n",
    "#print (sql5)\n",
    "#sql6 <-paste('insert into ' ,targetdb,'.tmp_orgs select distinct IDOrganisationRegisteredAt from ',sourcedb,'.tbl_SRCode', sep = \"\")\n",
    "#sql7 <-paste('insert into ' ,targetdb,'.tmp_orgs select distinct IDOrganisationVisibleTo from ',sourcedb,'.tbl_SRCode', sep = \"\")\n",
    "#sql8 <-paste('create table ' ,targetdb,'.tmp_orgs2 as Select distinct IDOrganisation from ' ,targetdb,'.tmp_orgs', sep = \"\")\n",
    "#sql9 <-paste('create table ' ,targetdb,'.care_site as select distinct a.* from yhcr-prd-phm-bia-core.CY_FDM_MASTER.care_site a ,',targetdb,'.tmp_orgs2 b where a.care_site_source_value = b.IDOrganisation and a.place_of_service_source_value = \\'GP practice site\\'', sep = \"\")\n",
    "sql9 <-paste('create table ' ,targetdb,'.care_site as select distinct a.* from yhcr-prd-phm-bia-core.CY_FDM_MASTER.care_site a where a.care_site_id = 155774', sep = \"\")\n",
    "\n",
    "#print (sql9)\n",
    "#sql10 <-paste('delete from ' ,targetdb,'.care_site where care_site_id = 236 or care_site_id = 886' , sep = \"\")\n",
    "\n",
    "#Now Run them \n",
    "tb1 <- bq_project_query(project_id, sql1)\n",
    "#tb2 <- bq_project_query(project_id, sql2)\n",
    "#tb3 <- bq_project_query(project_id, sql3)\n",
    "#tb4 <- bq_project_query(project_id, sql4)\n",
    "#tb5 <- bq_project_query(project_id, sql5)\n",
    "#tb6 <- bq_project_query(project_id, sql6)\n",
    "#tb7 <- bq_project_query(project_id, sql7)\n",
    "#tb8 <- bq_project_query(project_id, sql8)\n",
    "tb9 <- bq_project_query(project_id, sql9)\n",
    "#tb10 <- bq_project_query(project_id, sql10)\n",
    "\n",
    "print(\"Done care site\")"
   ]
  },
  {
   "cell_type": "code",
   "execution_count": 25,
   "id": "5b8a0930-0a78-4abb-b723-8a3f02701729",
   "metadata": {},
   "outputs": [
    {
     "name": "stdout",
     "output_type": "stream",
     "text": [
      "[1] \"Done builder table\"\n"
     ]
    }
   ],
   "source": [
    "#New section to build user table loop \n",
    "\n",
    "#Your loop references this table\n",
    "#You run this to load the list of tables into the dataframe \"table\"\n",
    "\n",
    "sql3 <-paste('select distinct table_name  from ' ,sourcedb,'.INFORMATION_SCHEMA.COLUMNS where table_name like \\'tbl%\\' and column_name = \\'person_id\\' order by table_name ;', sep = \"\")\n",
    "tb3 <- bq_project_query(project_id, sql3)\n",
    "\n",
    "table <- bq_table_download(tb3)\n",
    "#table \n",
    "\n",
    "print(\"Done builder table\") \n"
   ]
  },
  {
   "cell_type": "code",
   "execution_count": 26,
   "id": "63a2ff19-3f57-4477-ba7c-c4c471c795db",
   "metadata": {},
   "outputs": [
    {
     "name": "stdout",
     "output_type": "stream",
     "text": [
      "[1] \"Done\"\n"
     ]
    }
   ],
   "source": [
    "#This then loops through the data frame until the end\n",
    "# uses the two variables table[[i, 1]] and table[[i, 2]]\n",
    "# in the query\n",
    "\n",
    "sql4 <-paste('drop table if exists ',targetdb,'.tmp_persons;', sep = \"\")\n",
    "tb4 <-bq_project_query(project_id, sql4)\n",
    "\n",
    "\n",
    "sql5 <-paste('create table ',targetdb,'.tmp_persons \n",
    "(person_id int64);', sep = \"\")\n",
    "tb5 <-bq_project_query(project_id, sql5)\n",
    "#print(tb5)\n",
    "\n",
    "\n",
    "#Loops through all the data tables to build a list of unique person_ids from all of them \n",
    "\n",
    "for(i in 1:nrow(table)) \n",
    "{\n",
    "# for-loop over columns\n",
    "    #print(paste0(\"Table: \", table[[i, 1]]))\n",
    "    temp_sql_query  <-paste('insert into ',targetdb,'.tmp_persons select distinct cast(person_id as int64)  from ' ,sourcedb,'.',table[[i, 1]] ,';' , sep = \"\") \n",
    "    temp_queried_table <- bq_project_query(project_id, temp_sql_query)\n",
    "    temp_table <- bq_table_download(temp_queried_table)\n",
    "    #print(paste0(\"done \", temp_table[[1, 1]]))\n",
    "    #cat(\"\\n\")\n",
    "}\n",
    "print('Done') "
   ]
  },
  {
   "cell_type": "code",
   "execution_count": 27,
   "id": "4e46b7bc-089a-4537-922e-e56e5924502c",
   "metadata": {},
   "outputs": [
    {
     "name": "stdout",
     "output_type": "stream",
     "text": [
      "[1] \"person table built\"\n"
     ]
    }
   ],
   "source": [
    "#Now build the persons table \n",
    "\n",
    "sql11 <-paste('drop table if exists ' ,targetdb,'.person', sep = \"\")\n",
    "tb11 <- bq_project_query(project_id, sql11)\n",
    "\n",
    "\n",
    "sql12 <-paste('create table ' ,targetdb,'.person \n",
    "as \n",
    "SELECT distinct a.person_id\n",
    ", gender_concept_id\n",
    ", year_of_birth\n",
    ", month_of_birth\n",
    ", day_of_birth\n",
    ", birth_datetime\n",
    ", death_datetime\n",
    ", race_concept_id\n",
    ", ethnicity_concept_id\n",
    ", location_id\n",
    ", provider_id\n",
    ", care_site_id\n",
    ", person_source_value\n",
    ", gender_source_value\n",
    ", gender_source_concept_id\n",
    ", race_source_value\n",
    ", race_source_concept_id\n",
    ", ethnicity_source_value\n",
    ", ethnicity_source_concept_id \n",
    "FROM yhcr-prd-phm-bia-core.CY_FDM_MASTER.person a\n",
    ",',targetdb,'.tmp_persons b where a.person_id =  b.person_id' , sep = \"\")\n",
    "\n",
    "tb12 <- bq_project_query(project_id, sql12)\n",
    "#print(sql12)\n",
    "\n",
    "print (\"person table built\")"
   ]
  },
  {
   "cell_type": "code",
   "execution_count": null,
   "id": "713db6fa-d83d-4b57-b404-9935bb63f453",
   "metadata": {},
   "outputs": [],
   "source": [
    "#Ensure you have updated the lookup table ie\n",
    "#sql14 <- \"update `yhcr-prd-phm-bia-core.CY_LOOKUPS.tbl_Dataset_ExtractDateRef` set extract_date = '2023-02-07' where DatasetName = 'CB_STAGING_DATABASE_WAREHOUSE_FDM_Format'\"  \n",
    "\n",
    "#tb14 <- bq_project_query(project_id, sql14)"
   ]
  },
  {
   "cell_type": "code",
   "execution_count": 29,
   "id": "84db12a9-0f81-43ec-b3f0-53dfaf11c926",
   "metadata": {},
   "outputs": [
    {
     "name": "stdout",
     "output_type": "stream",
     "text": [
      "[1] \" temp event dates built\"\n"
     ]
    }
   ],
   "source": [
    "\n",
    "\n",
    "#This query makes the observation period based on the persons table BUT adds in rules for this data extract.\n",
    "#This query makes the observation period based on the persons table BUT adds in rules for this data extract.\n",
    "\n",
    "#Qmak_PrimaryCareObservationPeriod_Part1\n",
    "\n",
    "sql15 <-paste('drop table if exists ' ,targetdb,'.tmp_Eventdates' , sep = \"\")\n",
    "sql16 <-paste('drop table if exists ' ,targetdb,'.tmp_EventdatesValid' , sep = \"\")\n",
    "sql17 <-paste('truncate table ' ,targetdb,'.observation_period' , sep = \"\")\n",
    "\n",
    "tb15 <-bq_project_query(project_id, sql15)\n",
    "tb16 <-bq_project_query(project_id, sql16)\n",
    "tb17 <-bq_project_query(project_id, sql17)\n",
    "\n",
    "#This just builds a temp table for later use \n",
    "sql18 <-paste('create table ',targetdb,'.tmp_Eventdates \n",
    "(person_id int64\n",
    ", EventDate Datetime) ' , sep = \"\")\n",
    "tb18 <-bq_project_query(project_id, sql18)\n",
    "\n",
    "print(\" temp event dates built\") "
   ]
  },
  {
   "cell_type": "code",
   "execution_count": 30,
   "id": "2b4121cb-958e-45eb-a699-f849ad3aedbb",
   "metadata": {},
   "outputs": [
    {
     "name": "stdout",
     "output_type": "stream",
     "text": [
      "[1] \"Done start dates\"\n"
     ]
    }
   ],
   "source": [
    "#Loop through the user tables\n",
    "#selecting person_id and date from and date to for each of them.\n",
    "\n",
    "#start_date_first\n",
    "for(i in 1:nrow(table)) \n",
    "{\n",
    "# for-loop over columns\n",
    "    #print(paste0(\"Table: \", table[[i, 1]]))\n",
    "    temp_sql_query  <-paste('insert into ',targetdb,'.tmp_Eventdates select distinct cast(person_id as int64) as person_id, ',table[[i, 1]] ,'_start_date from ' ,sourcedb,'.',table[[i, 1]] ,' where person_id is not null;' , sep = \"\") \n",
    "    temp_queried_table <- bq_project_query(project_id, temp_sql_query)\n",
    "    #temp_table <- bq_table_download(temp_queried_table)\n",
    "    #print(temp_sql_query)\n",
    "    #print(paste0(\"done \", temp_table[[i, 1]]))\n",
    "    #cat(\"\\n\")\n",
    "}\n",
    "print('Done start dates') "
   ]
  },
  {
   "cell_type": "code",
   "execution_count": 31,
   "id": "d8288873-9ebd-42dc-9c04-9435ffbfa7ef",
   "metadata": {},
   "outputs": [
    {
     "name": "stdout",
     "output_type": "stream",
     "text": [
      "[1] \"Done end dates\"\n"
     ]
    }
   ],
   "source": [
    "#Now do end date\n",
    "for(i in 1:nrow(table)) \n",
    "{\n",
    "# for-loop over columns\n",
    "    #print(paste0(\"Table: \", table[[i, 1]]))\n",
    "    temp_sql_query  <-paste('insert into ',targetdb,'.tmp_Eventdates select distinct cast(person_id as int64) as person_id, ',table[[i, 1]] ,'_end_date from ' ,sourcedb,'.',table[[i, 1]] ,' where person_id is not null ;' , sep = \"\") \n",
    "    temp_queried_table <- bq_project_query(project_id, temp_sql_query)\n",
    "    #temp_table <- bq_table_download(temp_queried_table)\n",
    "    #print(temp_sql_query)\n",
    "    #print(paste0(\"done \", temp_table[[i, 1]]))\n",
    "    #cat(\"\\n\")\n",
    "}\n",
    "print('Done end dates') "
   ]
  },
  {
   "cell_type": "code",
   "execution_count": 32,
   "id": "5d590ab2-de85-4b45-b5e5-562ebdf70a02",
   "metadata": {},
   "outputs": [
    {
     "name": "stdout",
     "output_type": "stream",
     "text": [
      "[1] \"Temp valid dates built\"\n",
      "[1] \"observation period built\"\n",
      "[1] \"invalid people removed\"\n"
     ]
    }
   ],
   "source": [
    "\n",
    "sql24 <-paste('create table ',targetdb,'.tmp_EventdatesValid\n",
    "as\n",
    "select distinct a.person_id\n",
    ",cast(a.EventDate as date) as EventDate\n",
    "from ',targetdb,'.tmp_Eventdates a ,' \n",
    ",targetdb,'.person e \n",
    "where e.person_id = a.person_id \n",
    "and e.death_datetime is not null \n",
    "and a.EventDate >= e.birth_datetime\n",
    "and a.EventDate <= date_add(e.death_datetime, INTERVAL 42 day) \n",
    "and a.EventDate <= (Select extract_date from yhcr-prd-phm-bia-core.CY_LOOKUPS.tbl_Dataset_ExtractDateRef where DatasetName = \\'CB_STAGING_DATABASE_WAREHOUSE_FDM_Format\\')', sep = \"\")\n",
    "\n",
    "\n",
    "#-- BUT this only includes persons with a death datetime\n",
    "#-- So section below includes those with a null deathdatetime\n",
    "\n",
    "sql25 <-paste('insert into ',targetdb,'.tmp_EventdatesValid\n",
    "select distinct a.person_id\n",
    ", cast(a.EventDate as date) as EventDate\n",
    "from ',targetdb,'.tmp_Eventdates a\n",
    ",' ,targetdb,'.person e \n",
    "where e.person_id = a.person_id \n",
    "and e.death_datetime is null \n",
    "and a.EventDate >= e.birth_datetime\n",
    "and a.EventDate <= (Select extract_date from yhcr-prd-phm-bia-core.CY_LOOKUPS.tbl_Dataset_ExtractDateRef where DatasetName = \\'CB_STAGING_DATABASE_WAREHOUSE_FDM_Format\\')', sep = \"\")\n",
    "\n",
    "print(\"Temp valid dates built\")\n",
    "\n",
    "#third part pushes these into the observation_period table\n",
    "\n",
    "sql26 <-paste('insert into ' ,targetdb,'.observation_period\n",
    "select distinct\n",
    "ROW_NUMBER() over (Order by person_id) as observation_period_id \n",
    ", person_id\n",
    ", min(EventDate) as observation_period_start_date\n",
    ", max(EventDate) as observation_period_end_date\n",
    ",null as period_type_concept_id\n",
    "from ',targetdb,'.tmp_EventdatesValid\n",
    "group by person_id', sep = \"\")\n",
    "\n",
    "#Finally Run these sql's\n",
    "\n",
    "\n",
    "tb24 <-bq_project_query(project_id, sql24)\n",
    "tb25 <-bq_project_query(project_id, sql25)\n",
    "tb26 <-bq_project_query(project_id, sql26)\n",
    "\n",
    "print (\"observation period built\")\n",
    "\n",
    "# Now remove from person table where there is no observation period\n",
    "# This happens where there is patient data but no actual records \n",
    "# or there is patient data but no dob \n",
    "\n",
    "sql26a <-paste(' delete from ' ,targetdb,'.person where person_id\n",
    "not in (select person_id from ', targetdb, ' . observation_period)', sep = \"\")\n",
    "\n",
    "tb26a <-bq_project_query(project_id, sql26a) \n",
    "\n",
    "print (\"invalid people removed\")\n"
   ]
  },
  {
   "cell_type": "code",
   "execution_count": 33,
   "id": "f6873ad4-1f2e-422a-bb58-b00a3e06c17a",
   "metadata": {},
   "outputs": [
    {
     "name": "stdout",
     "output_type": "stream",
     "text": [
      "[1] \"Done\"\n"
     ]
    }
   ],
   "source": [
    "# As the Warehouse tables are all fdm ready we can just copy them into the FDM space\n",
    "# once we've dropped them - if they exist ! \n",
    "# So drop loop next \n",
    "\n",
    "#start drop them first\n",
    "for(i in 1:nrow(table)) \n",
    "{\n",
    "# for-loop over columns\n",
    "    #print(paste0(\"Table: \", table[[i, 1]]))\n",
    "    temp_sql_query  <-paste('drop table if exists ',targetdb,'.', table[[i, 1]] ,';' , sep = \"\") \n",
    "    temp_queried_table <- bq_project_query(project_id, temp_sql_query)\n",
    "    #temp_table <- bq_table_download(temp_queried_table)\n",
    "    #print(temp_sql_query)\n",
    "    #print(paste0(\"done \", temp_table[[i, 1]]))\n",
    "    #cat(\"\\n\")\n",
    "}\n",
    "print('Done - user tables removed')"
   ]
  },
  {
   "cell_type": "code",
   "execution_count": 34,
   "id": "d9f8ffe8-7b6c-4627-a8e0-70010a7b1d21",
   "metadata": {},
   "outputs": [
    {
     "name": "stdout",
     "output_type": "stream",
     "text": [
      "[1] \"Done\"\n"
     ]
    }
   ],
   "source": [
    "#Now build them \n",
    "for(i in 1:nrow(table)) \n",
    "{\n",
    "# for-loop over columns\n",
    "    #print(paste0(\"Table: \", table[[i, 1]]))\n",
    "    temp_sql_query  <-paste('create table ',targetdb,'.',table[[i, 1]] ,' as select src.* from ' ,sourcedb,'.',table[[i, 1]],' src \n",
    "    , ',targetdb,'.observation_period obs where cast(src.person_id as int64)  = obs.person_id \n",
    "    and src.',table[[i, 1]],'_end_date <= obs.observation_period_end_date  \n",
    "    and src.',table[[i, 1]],'_start_date >= obs.observation_period_start_date', sep = \"\")\n",
    "    #print(temp_sql_query)\n",
    "    temp_queried_table <- bq_project_query(project_id, temp_sql_query)\n",
    "    #temp_table <- bq_table_download(temp_queried_table)\n",
    "    #print(paste0(\"done \", temp_table[[i, 1]]))\n",
    "    #cat(\"\\n\")\n",
    "}\n",
    "print('Done - user tables built ')\n",
    "\n",
    "#But this only works for those tables with a tbl_prefix containing person_id \n",
    "# so we need to manually mop up the ones that don't."
   ]
  },
  {
   "cell_type": "code",
   "execution_count": 36,
   "id": "8685d4ca-2d15-4d08-abac-1c66b2689033",
   "metadata": {},
   "outputs": [
    {
     "name": "stdout",
     "output_type": "stream",
     "text": [
      "[1] \"Done dropping cb tables\"\n",
      "[1] \"Done building cb tables \"\n",
      "[1] \"Build null person tables \"\n"
     ]
    }
   ],
   "source": [
    "#Section to build non tbl_ user tables \n",
    "#these are also ones with no person_id or derived tables  \n",
    "\n",
    "#Your loop references these tables\n",
    "#You run this to load the list of tables into the dataframe \"table\"\n",
    "\n",
    "sql3 <-paste('select distinct table_name  from ' ,sourcedb,'.INFORMATION_SCHEMA.COLUMNS where table_name like \\'cb%\\' order by table_name ;', sep = \"\")\n",
    "tb3 <- bq_project_query(project_id, sql3)\n",
    "\n",
    "table2 <- bq_table_download(tb3)\n",
    "#table2\n",
    "\n",
    "#Drop them first\n",
    "for(i in 1:nrow(table2)) \n",
    "{\n",
    "# for-loop over columns\n",
    "    #print(paste0(\"Table: \", table2[[i, 1]]))\n",
    "    temp_sql_query  <-paste('drop table if exists ',targetdb,'.', table2[[i, 1]] ,';' , sep = \"\") \n",
    "    temp_queried_table <- bq_project_query(project_id, temp_sql_query)\n",
    "    #temp_table <- bq_table_download(temp_queried_table)\n",
    "    #print(temp_sql_query)\n",
    "    #print(paste0(\"done \", temp_table[[i, 1]]))\n",
    "    #cat(\"\\n\")\n",
    "}\n",
    "print('Done dropping cb tables')\n",
    "\n",
    "#Now build them \n",
    "for(i in 1:nrow(table2)) \n",
    "{\n",
    "# for-loop over columns\n",
    "    #print(paste0(\"Table: \", table2[[i, 1]]))\n",
    "    temp_sql_query  <-paste('create table ',targetdb,'.',table2[[i, 1]] ,' as select src.* from ' ,sourcedb,'.',table2[[i, 1]],' src', sep = \"\")\n",
    "    #print(temp_sql_query)\n",
    "    temp_queried_table <- bq_project_query(project_id, temp_sql_query)\n",
    "    #temp_table <- bq_table_download(temp_queried_table)\n",
    "    #print(paste0(\"done \", temp_table[[i, 1]]))\n",
    "    #cat(\"\\n\")\n",
    "}\n",
    "print('Done building cb tables ')\n",
    "\n",
    "#Section to build user tables with no person_id or derived tables  \n",
    "#These are specifically referenced\n",
    "#in this case it is tbl_ae_nautilus_timings as there is an ull person_id\n",
    "\n",
    "sql71 <-paste(' truncate table ' ,targetdb,'.tbl_ae_timings_nautilus ', sep = \"\")\n",
    "tb71 <- bq_project_query(project_id, sql71)\n",
    "\n",
    "sql72 <-paste(' insert into ' ,targetdb,'.tbl_ae_timings_nautilus \n",
    "select distinct * from ' ,sourcedb,'.tbl_ae_timings_nautilus a', sep = \"\")\n",
    "tb72 <- bq_project_query(project_id, sql72)\n",
    "\n",
    "print(\"Build null person tables \")\n"
   ]
  },
  {
   "cell_type": "code",
   "execution_count": 37,
   "id": "feb64411-2b2f-4343-b178-ca7e44e63547",
   "metadata": {},
   "outputs": [
    {
     "name": "stdout",
     "output_type": "stream",
     "text": [
      "[1] \"starting visit builders\"\n"
     ]
    },
    {
     "name": "stderr",
     "output_type": "stream",
     "text": [
      "Auto-refreshing stale OAuth token.\n",
      "\n"
     ]
    },
    {
     "name": "stdout",
     "output_type": "stream",
     "text": [
      "[1] \"temp visit builder table built\"\n"
     ]
    }
   ],
   "source": [
    "print (\"starting visit builders\")\n",
    "\n",
    "#VISITBuilders\n",
    "#These are added value scripts that build pseudo visit occurences tables. \n",
    "#Due to the variances of the source data it may not be possible to build generic\n",
    "#visit occurrence builders.\n",
    "\n",
    "#This is a temporary table to bring together all visit information that we may be interested in\n",
    "\n",
    "sql62 <-paste(' drop table if exists ' ,targetdb,'.tmp_visit_builder', sep = \"\")\n",
    "tb62 <-bq_project_query(project_id, sql62) \n",
    "\n",
    "#Make the tmp_visit_builder_table\n",
    "\n",
    "sql2 <-paste('create table if not exists ' ,targetdb,'.tmp_visit_builder\n",
    "( source_table string,\n",
    "  source_table_identifier string,\n",
    "  person_id int64,\n",
    "  visit_description string,\n",
    " visitstartdate datetime,\n",
    " visitenddate datetime,\n",
    " visitlocation string,\n",
    " visitstartplace string,\n",
    " visitendplace string);', sep = \"\")\n",
    "tb2 <- bq_project_query(project_id, sql2)\n",
    "eric <- paste(\"temp visit builder table built\", sep = \"\")\n",
    "print (eric)"
   ]
  },
  {
   "cell_type": "code",
   "execution_count": 38,
   "id": "bd58141d-1e05-4a78-be6e-b6d0e98a4377",
   "metadata": {},
   "outputs": [],
   "source": [
    "#So push into a tmp visit builder table the person_id, Event_date, \n",
    "## You need to so this for each source table manually now !\n",
    "\n",
    "#1) tbl_ae\n",
    "\n",
    "sql63 <-paste(' insert into ' ,targetdb,'.tmp_visit_builder\n",
    "select  \"tbl_ae\" as source_table, \n",
    "identifier as source_identifier,\n",
    "src.person_id , \n",
    "attendance_disposal_description as description,\n",
    "tbl_ae_start_date, \n",
    "tbl_ae_end_date, \n",
    "\"BRI A and E\" as location\n",
    ",null as start_place\n",
    ",null as endplace\n",
    "FROM ' ,targetdb,'.tbl_ae src\n",
    "  , ' ,targetdb,'.person c\n",
    "  , ' ,targetdb,'.observation_period obs\n",
    "  where src.person_id = c.person_id\n",
    "  and c.person_id = obs.person_id\n",
    "  and src.tbl_ae_end_date <= obs.observation_period_end_date\n",
    "  and src.tbl_ae_start_date >= obs.observation_period_start_date', sep = \"\")\n",
    "\n",
    "tb63 <- bq_project_query(project_id, sql63)\n",
    "print(\"tbl_ae built\")"
   ]
  },
  {
   "cell_type": "code",
   "execution_count": 43,
   "id": "60a7b9b7-0dc3-4a7e-ae35-38fcbd37b9ad",
   "metadata": {},
   "outputs": [],
   "source": [
    "#tbl_ae_investigation_nautilus\n",
    "sql64 <-paste(' insert into ' ,targetdb,'.tmp_visit_builder\n",
    "SELECT \"tbl_ae_investigation_nautilus\", \n",
    "order_id,\n",
    "cast(src.person_id as int64),\n",
    "order_status_description,\n",
    "tbl_ae_investigation_nautilus_start_date,\n",
    "tbl_ae_investigation_nautilus_end_date,\n",
    "investigation_type_description,\n",
    "null,\n",
    "null\n",
    "FROM ' ,targetdb,'.tbl_ae_investigation_nautilus src\n",
    "  , ' ,targetdb,'.person c\n",
    "  , ' ,targetdb,'.observation_period obs\n",
    "  where cast(src.person_id as int64)  = c.person_id\n",
    "  and c.person_id = obs.person_id\n",
    "  and src.tbl_ae_investigation_nautilus_end_date <= obs.observation_period_end_date\n",
    "  and src.tbl_ae_investigation_nautilus_start_date >= obs.observation_period_start_date', sep = \"\")\n",
    "tb64 <- bq_project_query(project_id, sql64)\n",
    "\n",
    "print(\"tbl_ae_investigation_nautilus built\")"
   ]
  },
  {
   "cell_type": "code",
   "execution_count": 45,
   "id": "3323d584-71f4-4fd6-a6b4-0809d4863fdc",
   "metadata": {},
   "outputs": [
    {
     "name": "stdout",
     "output_type": "stream",
     "text": [
      "[1] \"tbl_ae_timings_nautilus built\"\n"
     ]
    }
   ],
   "source": [
    "#tbl_ae_timings_nautilus\n",
    "\n",
    "sql65 <-paste(' insert into ' ,targetdb,'.tmp_visit_builder\n",
    "SELECT \"tbl_ae_timings_nautilus\",\n",
    "encntr_id,\n",
    "src.person_id,\n",
    "null as descritiion,\n",
    "tbl_ae_timings_nautilus_start_date,\n",
    "tbl_ae_timings_nautilus_end_date,\n",
    "\"BRI_AE\"  as location,\n",
    "null as start_place,\n",
    "null as end_place \n",
    "FROM ' ,targetdb,'.tbl_ae_timings_nautilus src\n",
    "  , ' ,targetdb,'.person c\n",
    "  , ' ,targetdb,'.observation_period obs\n",
    "  where cast(src.person_id as int64)  = c.person_id\n",
    "  and c.person_id = obs.person_id\n",
    "  and src.tbl_ae_timings_nautilus_end_date <= obs.observation_period_end_date\n",
    "  and src.tbl_ae_timings_nautilus_start_date >= obs.observation_period_start_date', sep = \"\")\n",
    "tb65 <- bq_project_query(project_id, sql65)\n",
    "\n",
    "print(\"tbl_ae_timings_nautilus built\")"
   ]
  },
  {
   "cell_type": "code",
   "execution_count": 48,
   "id": "ed6bed8b-620d-49f0-bc79-2ffb1b2684c1",
   "metadata": {},
   "outputs": [
    {
     "name": "stdout",
     "output_type": "stream",
     "text": [
      "[1] \"tbl_ae_timings_nautilus built\"\n"
     ]
    }
   ],
   "source": [
    "#tbl_ae_treatment_nautilus\n",
    "\n",
    "sql66 <-paste(' insert into ' ,targetdb,'.tmp_visit_builder\n",
    "SELECT \"tbl_ae_treatment_nautilus\",\n",
    "event_id,\n",
    "cast(src.person_id as int64),\n",
    "event_title_text as description,\n",
    "tbl_ae_treatment_nautilus_start_date,\n",
    "tbl_ae_treatment_nautilus_end_date,\n",
    "\"BRI_AE\"  as location,\n",
    "null as start_place,\n",
    "null as end_place \n",
    "FROM ' ,targetdb,'.tbl_ae_treatment_nautilus src\n",
    "  , ' ,targetdb,'.person c\n",
    "  , ' ,targetdb,'.observation_period obs\n",
    "  where cast(src.person_id as int64)  = c.person_id\n",
    "  and c.person_id = obs.person_id\n",
    "  and src.tbl_ae_treatment_nautilus_end_date <= obs.observation_period_end_date\n",
    "  and src.tbl_ae_treatment_nautilus_start_date >= obs.observation_period_start_date', sep = \"\")\n",
    "tb66 <- bq_project_query(project_id, sql66)\n",
    "\n",
    "print(\"tbl_ae_timings_nautilus built\")\n"
   ]
  },
  {
   "cell_type": "code",
   "execution_count": 53,
   "id": "296173fc-56ed-49e8-a948-4547e6eb3fca",
   "metadata": {},
   "outputs": [
    {
     "name": "stdout",
     "output_type": "stream",
     "text": [
      "[1] \"tbl_apc_finished_susplus built\"\n"
     ]
    }
   ],
   "source": [
    "#tbl_apc_finished_susplus\n",
    "\n",
    "sql67 <-paste(' insert into ' ,targetdb,'.tmp_visit_builder\n",
    "SELECT \"tbl_apc_finished_susplus\",\n",
    "generated_record_identifier,\n",
    "src.person_id,\n",
    "null as description,\n",
    "tbl_apc_finished_susplus_start_date,\n",
    "tbl_apc_finished_susplus_end_date,\n",
    "\"BRI_Inpatient\"  as location,\n",
    "src2.admission_source_local_desc as start_place,\n",
    "src2.discharge_destination_local_desc as end_place \n",
    "FROM ' ,targetdb,'.tbl_apc_finished_susplus src\n",
    "  , ' ,targetdb,'.tbl_spell src2\n",
    "  , ' ,targetdb,'.person c\n",
    "  , ' ,targetdb,'.observation_period obs\n",
    "  where cast(src.person_id as int64)  = c.person_id\n",
    "  and src.hospital_provider_spell_number = src2.spell_number\n",
    "  and c.person_id = obs.person_id\n",
    "  and src.tbl_apc_finished_susplus_end_date <= obs.observation_period_end_date\n",
    "  and src.tbl_apc_finished_susplus_start_date >= obs.observation_period_start_date', sep = \"\")\n",
    "tb67 <- bq_project_query(project_id, sql67)\n",
    "\n",
    "print(\"tbl_apc_finished_susplus built\")"
   ]
  },
  {
   "cell_type": "code",
   "execution_count": 59,
   "id": "0b313bf8-8dcf-4a8c-ad84-268994296744",
   "metadata": {},
   "outputs": [
    {
     "name": "stdout",
     "output_type": "stream",
     "text": [
      "[1] \"tbl_autism_amalgamated_ptl_oct2022 built\"\n"
     ]
    }
   ],
   "source": [
    "#tbl_autism_amalgamated_ptl_oct2022\n",
    "\n",
    "sql68 <-paste(' insert into ' ,targetdb,'.tmp_visit_builder\n",
    "SELECT \"tbl_autism_amalgamated_ptl_oct2022\" as source_table,\n",
    "cast(src.person_id as string)  as identifier,\n",
    "cast(src.person_id as int64) ,\n",
    "\"autism Services\" as description,\n",
    "tbl_autism_amalgamated_ptl_oct2022_start_date,\n",
    "tbl_autism_amalgamated_ptl_oct2022_end_date,\n",
    "trust as location,\n",
    "null as start_place,\n",
    "null as end_place\n",
    "FROM ' ,targetdb,'.tbl_autism_amalgamated_ptl_oct2022 src \n",
    "  , ' ,targetdb,'.person c\n",
    "  , ' ,targetdb,'.observation_period obs\n",
    "  where cast(src.person_id as int64)  = c.person_id\n",
    "  and c.person_id = obs.person_id\n",
    "  and src.tbl_autism_amalgamated_ptl_oct2022_end_date <= obs.observation_period_end_date\n",
    "  and src.tbl_autism_amalgamated_ptl_oct2022_start_date >= obs.observation_period_start_date', sep = \"\")\n",
    "tb68 <- bq_project_query(project_id, sql68)\n",
    "\n",
    "print(\"tbl_autism_amalgamated_ptl_oct2022 built\")"
   ]
  },
  {
   "cell_type": "code",
   "execution_count": 62,
   "id": "60b9b7af-6fc7-4b0d-a96c-d9ef459f3065",
   "metadata": {},
   "outputs": [
    {
     "name": "stdout",
     "output_type": "stream",
     "text": [
      "[1] \"tbl_critical_care_ICNARC_observation built\"\n"
     ]
    }
   ],
   "source": [
    "#tbl_critical_care_ICNARC_observation\n",
    "\n",
    "sql69 <-paste(' insert into ' ,targetdb,'.tmp_visit_builder\n",
    "SELECT \"tbl_critical_care_ICNARC_observation\" as source_table,\n",
    "cast(src.person_id as string)  as identifier,\n",
    "cast(src.person_id as int64) ,\n",
    "\"Critical Care\" as description,\n",
    "tbl_critical_care_ICNARC_observation_start_date,\n",
    "tbl_critical_care_ICNARC_observation_end_date,\n",
    "null as location,\n",
    "null as start_place,\n",
    "null as end_place\n",
    "FROM ' ,targetdb,'.tbl_critical_care_ICNARC_observation src \n",
    "  , ' ,targetdb,'.person c\n",
    "  , ' ,targetdb,'.observation_period obs\n",
    "  where cast(src.person_id as int64)  = c.person_id\n",
    "  and c.person_id = obs.person_id\n",
    "  and src.tbl_critical_care_ICNARC_observation_end_date <= obs.observation_period_end_date\n",
    "  and src.tbl_critical_care_ICNARC_observation_start_date >= obs.observation_period_start_date', sep = \"\")\n",
    "tb69 <- bq_project_query(project_id, sql69)\n",
    "\n",
    "print(\"tbl_critical_care_ICNARC_observation built\")"
   ]
  },
  {
   "cell_type": "code",
   "execution_count": 63,
   "id": "67a10952-f8f5-42ce-bde5-22128b324bce",
   "metadata": {},
   "outputs": [
    {
     "name": "stdout",
     "output_type": "stream",
     "text": [
      "[1] \"tbl_critical_care_adult built\"\n"
     ]
    }
   ],
   "source": [
    "#tbl_critical_care_adult\n",
    "\n",
    "\n",
    "sql69 <-paste(' insert into ' ,targetdb,'.tmp_visit_builder\n",
    "SELECT \"tbl_critical_care_adult\" as source_table,\n",
    "src.episode_number as identifier,\n",
    "src.person_id,\n",
    "\"Critical Care adult\" as description,\n",
    "tbl_critical_care_adult_start_date,\n",
    "tbl_critical_care_adult_end_date,\n",
    "cc_unit_function as location,\n",
    "null as start_place,\n",
    "null as end_place\n",
    "FROM ' ,targetdb,'.tbl_critical_care_adult src \n",
    "  , ' ,targetdb,'.person c\n",
    "  , ' ,targetdb,'.observation_period obs\n",
    "  where cast(src.person_id as int64)  = c.person_id\n",
    "  and c.person_id = obs.person_id\n",
    "  and src.tbl_critical_care_adult_end_date <= obs.observation_period_end_date\n",
    "  and src.tbl_critical_care_adult_start_date >= obs.observation_period_start_date', sep = \"\")\n",
    "tb69 <- bq_project_query(project_id, sql69)\n",
    "\n",
    "print(\"tbl_critical_care_adult built\")"
   ]
  },
  {
   "cell_type": "code",
   "execution_count": 66,
   "id": "c7157309-44dd-41c0-94ef-1296a8a907e5",
   "metadata": {},
   "outputs": [
    {
     "name": "stdout",
     "output_type": "stream",
     "text": [
      "[1] \"tbl_critical_care_neonatal built\"\n"
     ]
    }
   ],
   "source": [
    "#tbl_critical_care_neonatal\n",
    "\n",
    "sql70 <-paste(' insert into ' ,targetdb,'.tmp_visit_builder\n",
    "SELECT \"tbl_critical_care_neonatal\" as source_table,\n",
    "src.episode_number as identifier,\n",
    "src.person_id,\n",
    "\"Critical Care Neonatal\" as description,\n",
    "tbl_critical_care_neonatal_start_date,\n",
    "tbl_critical_care_neonatal_end_date,\n",
    "site_code as location,\n",
    "null as start_place,\n",
    "null as end_place\n",
    "FROM ' ,targetdb,'.tbl_critical_care_neonatal src \n",
    "  , ' ,targetdb,'.person c\n",
    "  , ' ,targetdb,'.observation_period obs\n",
    "  where cast(src.person_id as int64)  = c.person_id\n",
    "  and c.person_id = obs.person_id\n",
    "  and src.tbl_critical_care_neonatal_end_date <= obs.observation_period_end_date\n",
    "  and src.tbl_critical_care_neonatal_start_date >= obs.observation_period_start_date', sep = \"\")\n",
    "tb70 <- bq_project_query(project_id, sql70)\n",
    "\n",
    "print(\"tbl_critical_care_neonatal built\")"
   ]
  },
  {
   "cell_type": "code",
   "execution_count": 67,
   "id": "b7b09570-f31a-4f38-89d4-cfb48f19a457",
   "metadata": {},
   "outputs": [
    {
     "name": "stdout",
     "output_type": "stream",
     "text": [
      "[1] \"tbl_ec_backward_compatible_susplus built\"\n"
     ]
    }
   ],
   "source": [
    "#tbl_ec_backward_compatible_susplus\n",
    "sql71 <-paste(' insert into ' ,targetdb,'.tmp_visit_builder\n",
    "SELECT \"tbl_ec_backward_compatible_susplus\" as source_table,\n",
    "src.identifier as identifier,\n",
    "src.person_id,\n",
    "\"Emergency Care\" as description,\n",
    "tbl_ec_backward_compatible_susplus_start_date,\n",
    "tbl_ec_backward_compatible_susplus_end_date,\n",
    "\"BRI A and E\" as location,\n",
    "null as start_place,\n",
    "null as end_place\n",
    "FROM ' ,targetdb,'.tbl_ec_backward_compatible_susplus src \n",
    "  , ' ,targetdb,'.person c\n",
    "  , ' ,targetdb,'.observation_period obs\n",
    "  where cast(src.person_id as int64)  = c.person_id\n",
    "  and c.person_id = obs.person_id\n",
    "  and src.tbl_ec_backward_compatible_susplus_end_date <= obs.observation_period_end_date\n",
    "  and src.tbl_ec_backward_compatible_susplus_start_date >= obs.observation_period_start_date', sep = \"\")\n",
    "tb71 <- bq_project_query(project_id, sql71)\n",
    "\n",
    "print(\"tbl_ec_backward_compatible_susplus built\")\n"
   ]
  },
  {
   "cell_type": "code",
   "execution_count": 96,
   "id": "3a493e9c-eec6-489b-a597-889c7af5a593",
   "metadata": {},
   "outputs": [
    {
     "name": "stdout",
     "output_type": "stream",
     "text": [
      "[1] \"tbl_episode built\"\n"
     ]
    }
   ],
   "source": [
    "#tbl_episode\n",
    "\n",
    "sql71 <-paste(' insert into ' ,targetdb,'.tmp_visit_builder\n",
    "SELECT \"tbl_episode\" as source_table,\n",
    "src.spell_number as identifier,\n",
    "src.person_id,\n",
    "\"BRI Episodes\" as description,\n",
    "tbl_episode_start_date,\n",
    "tbl_episode_end_date,\n",
    "Null as location,\n",
    "start_site as start_place,\n",
    "end_site as end_place\n",
    "FROM ' ,targetdb,'.tbl_episode src \n",
    "  , ' ,targetdb,'.person c\n",
    "  , ' ,targetdb,'.observation_period obs\n",
    "  where cast(src.person_id as int64)  = c.person_id\n",
    "  and c.person_id = obs.person_id\n",
    "  and src.tbl_episode_end_date <= obs.observation_period_end_date\n",
    "  and src.tbl_episode_start_date >= obs.observation_period_start_date', sep = \"\")\n",
    "tb71 <- bq_project_query(project_id, sql71)\n",
    "\n",
    "print(\"tbl_episode built\")"
   ]
  },
  {
   "cell_type": "code",
   "execution_count": 73,
   "id": "858bf52e-1dd3-4863-bea9-fc7edb4311fe",
   "metadata": {},
   "outputs": [
    {
     "name": "stdout",
     "output_type": "stream",
     "text": [
      "[1] \"tbl_maternity_birth built\"\n"
     ]
    }
   ],
   "source": [
    "#tbl_maternity_birth\n",
    "\n",
    "sql71 <-paste(' insert into ' ,targetdb,'.tmp_visit_builder\n",
    "SELECT \"tbl_maternity_birth\" as source_table,\n",
    "src.birth_serial as identifier,\n",
    "src.person_id,\n",
    "\"Maternity births\" as description,\n",
    "tbl_maternity_birth_start_date,\n",
    "tbl_maternity_birth_end_date,\n",
    "delivery_place_type_actual_midwifery_unit_type_desc as location,\n",
    "delivery_place_type_code_actual_desc as start_place,\n",
    "null as end_place\n",
    "FROM ' ,targetdb,'.tbl_maternity_birth src \n",
    "  , ' ,targetdb,'.person c\n",
    "  , ' ,targetdb,'.observation_period obs\n",
    "  where cast(src.person_id as int64)  = c.person_id\n",
    "  and c.person_id = obs.person_id\n",
    "  and src.tbl_maternity_birth_end_date <= obs.observation_period_end_date\n",
    "  and src.tbl_maternity_birth_start_date >= obs.observation_period_start_date', sep = \"\")\n",
    "tb71 <- bq_project_query(project_id, sql71)\n",
    "\n",
    "print(\"tbl_maternity_birth built\")"
   ]
  },
  {
   "cell_type": "code",
   "execution_count": 77,
   "id": "6b4fb7ff-841e-423e-8ca5-1f08c1b3654c",
   "metadata": {},
   "outputs": [
    {
     "name": "stdout",
     "output_type": "stream",
     "text": [
      "[1] \"tbl_maternity_care_plan built\"\n"
     ]
    }
   ],
   "source": [
    "#tbl_maternity_care_plan\n",
    "sql72 <-paste(' insert into ' ,targetdb,'.tmp_visit_builder\n",
    "SELECT \"tbl_maternity_care_plan\" as source_table,\n",
    "src.maternity_care_plan_serial as identifier,\n",
    "src.person_id,\n",
    "maternity_care_plan_type_desc as description,\n",
    "tbl_maternity_care_plan_start_date,\n",
    "tbl_maternity_care_plan_end_date,\n",
    "null as location,\n",
    "maternity_care_setting_of_planned_delivery_desc as start_place,\n",
    "planned_delivery_setting_change_reason_antenatal_desc as end_place\n",
    "FROM ' ,targetdb,'.tbl_maternity_care_plan src \n",
    "  , ' ,targetdb,'.person c\n",
    "  , ' ,targetdb,'.observation_period obs\n",
    "  where cast(src.person_id as int64)  = c.person_id\n",
    "  and c.person_id = obs.person_id\n",
    "  and src.tbl_maternity_care_plan_end_date <= obs.observation_period_end_date\n",
    "  and src.tbl_maternity_care_plan_start_date >= obs.observation_period_start_date', sep = \"\")\n",
    "tb72 <- bq_project_query(project_id, sql72)\n",
    "\n",
    "print(\"tbl_maternity_care_plan built\")"
   ]
  },
  {
   "cell_type": "code",
   "execution_count": 80,
   "id": "b7099bcc-777d-4050-92bb-0c0577322b19",
   "metadata": {},
   "outputs": [
    {
     "name": "stdout",
     "output_type": "stream",
     "text": [
      "[1] \"tbl_maternity_delivery built\"\n"
     ]
    }
   ],
   "source": [
    "#tbl_maternity_delivery\n",
    "\n",
    "sql73 <-paste(' insert into ' ,targetdb,'.tmp_visit_builder\n",
    "SELECT \"tbl_maternity_delivery\" as source_table,\n",
    "src.delivery_serial as identifier,\n",
    "src.person_id,\n",
    "\"BRI Maternity delivery\" as description,\n",
    "tbl_maternity_delivery_start_date,\n",
    "tbl_maternity_delivery_end_date,\n",
    "place_of_delivery_intended_desc as location,\n",
    "null as start_place,\n",
    "null as end_place\n",
    "FROM ' ,targetdb,'.tbl_maternity_delivery src \n",
    "  , ' ,targetdb,'.person c\n",
    "  , ' ,targetdb,'.observation_period obs\n",
    "  where cast(src.person_id as int64)  = c.person_id\n",
    "  and c.person_id = obs.person_id\n",
    "  and src.tbl_maternity_delivery_end_date <= obs.observation_period_end_date\n",
    "  and src.tbl_maternity_delivery_start_date >= obs.observation_period_start_date', sep = \"\")\n",
    "tb73 <- bq_project_query(project_id, sql73)\n",
    "\n",
    "print(\"tbl_maternity_delivery built\")"
   ]
  },
  {
   "cell_type": "code",
   "execution_count": 81,
   "id": "14baf56d-cbdb-4191-a174-fef092664ea7",
   "metadata": {},
   "outputs": [
    {
     "name": "stdout",
     "output_type": "stream",
     "text": [
      "[1] \"tbl_maternity_delivery built\"\n"
     ]
    }
   ],
   "source": [
    "#tbl_maternity_pathway_antenatal\n",
    "\n",
    "\n",
    "sql74 <-paste(' insert into ' ,targetdb,'.tmp_visit_builder\n",
    "SELECT \"tbl_maternity_pathway_antenatal\" as source_table,\n",
    "src.identifier as identifier,\n",
    "src.person_id,\n",
    "\"BRI Maternity antenatal\" as description,\n",
    "tbl_maternity_pathway_antenatal_start_date,\n",
    "tbl_maternity_pathway_antenatal_end_date,\n",
    "pathway_category as location,\n",
    "null as start_place,\n",
    "null as end_place\n",
    "FROM ' ,targetdb,'.tbl_maternity_pathway_antenatal src \n",
    "  , ' ,targetdb,'.person c\n",
    "  , ' ,targetdb,'.observation_period obs\n",
    "  where cast(src.person_id as int64)  = c.person_id\n",
    "  and c.person_id = obs.person_id\n",
    "  and src.tbl_maternity_pathway_antenatal_end_date <= obs.observation_period_end_date\n",
    "  and src.tbl_maternity_pathway_antenatal_start_date >= obs.observation_period_start_date', sep = \"\")\n",
    "tb74 <- bq_project_query(project_id, sql74)\n",
    "\n",
    "print(\"tbl_maternity_pathway_antenatal\")"
   ]
  },
  {
   "cell_type": "code",
   "execution_count": 82,
   "id": "e4f2be13-fba4-40ae-9537-27221cfae896",
   "metadata": {},
   "outputs": [
    {
     "name": "stdout",
     "output_type": "stream",
     "text": [
      "[1] \"tbl_maternity_pathway_postnatal built\"\n"
     ]
    }
   ],
   "source": [
    "#tbl_maternity_pathway_postnatal\n",
    "\n",
    "sql75 <-paste(' insert into ' ,targetdb,'.tmp_visit_builder\n",
    "SELECT \"tbl_maternity_pathway_postnatal\" as source_table,\n",
    "src.identifier as identifier,\n",
    "src.person_id,\n",
    "\"BRI Maternity postnatal\" as description,\n",
    "tbl_maternity_pathway_postnatal_start_date,\n",
    "tbl_maternity_pathway_postnatal_end_date,\n",
    "place_of_birth as location,\n",
    "null as start_place,\n",
    "null as end_place\n",
    "FROM ' ,targetdb,'.tbl_maternity_pathway_postnatal src \n",
    "  , ' ,targetdb,'.person c\n",
    "  , ' ,targetdb,'.observation_period obs\n",
    "  where cast(src.person_id as int64)  = c.person_id\n",
    "  and c.person_id = obs.person_id\n",
    "  and src.tbl_maternity_pathway_postnatal_end_date <= obs.observation_period_end_date\n",
    "  and src.tbl_maternity_pathway_postnatal_start_date >= obs.observation_period_start_date', sep = \"\")\n",
    "tb75 <- bq_project_query(project_id, sql75)\n",
    "\n",
    "print(\"tbl_maternity_pathway_postnatal built\")"
   ]
  },
  {
   "cell_type": "code",
   "execution_count": 85,
   "id": "b49f8ea5-6d44-4480-85a0-d5d9a39603b1",
   "metadata": {},
   "outputs": [
    {
     "name": "stdout",
     "output_type": "stream",
     "text": [
      "[1] \"tbl_maternity_pregnancy_and_booking_details\"\n"
     ]
    }
   ],
   "source": [
    "#tbl_maternity_pregnancy_and_booking_details\n",
    "sql76 <-paste(' insert into ' ,targetdb,'.tmp_visit_builder\n",
    "SELECT \"tbl_maternity_pregnancy_and_booking_details\" as source_table,\n",
    "src.pregnancy_identifier as identifier,\n",
    "src.person_id,\n",
    "\"BRI Maternity booking details\" as description,\n",
    "tbl_maternity_pregnancy_and_booking_details_start_date,\n",
    "tbl_maternity_pregnancy_and_booking_details_end_date,\n",
    "null as location,\n",
    "null as start_place,\n",
    "null as end_place\n",
    "FROM ' ,targetdb,'.tbl_maternity_pregnancy_and_booking_details src \n",
    "  , ' ,targetdb,'.person c\n",
    "  , ' ,targetdb,'.observation_period obs\n",
    "  where cast(src.person_id as int64)  = c.person_id\n",
    "  and c.person_id = obs.person_id\n",
    "  and src.tbl_maternity_pregnancy_and_booking_details_end_date <= obs.observation_period_end_date\n",
    "  and src.tbl_maternity_pregnancy_and_booking_details_start_date >= obs.observation_period_start_date', sep = \"\")\n",
    "tb76 <- bq_project_query(project_id, sql76)\n",
    "\n",
    "print(\"tbl_maternity_pregnancy_and_booking_details\")"
   ]
  },
  {
   "cell_type": "code",
   "execution_count": 86,
   "id": "eab0af5a-cf1c-4c75-8945-fb3ee791e754",
   "metadata": {},
   "outputs": [
    {
     "name": "stdout",
     "output_type": "stream",
     "text": [
      "[1] \"tbl_outpatient built\"\n"
     ]
    }
   ],
   "source": [
    "#tbl_outpatient\n",
    "sql77 <-paste(' insert into ' ,targetdb,'.tmp_visit_builder\n",
    "SELECT \"tbl_outpatient\" as source_table,\n",
    "src.appointment_serial as identifier,\n",
    "src.person_id,\n",
    "\"BRI Outpatients\" as description,\n",
    "tbl_outpatient_start_date,\n",
    "tbl_outpatient_end_date,\n",
    "raw_appointment_type as location,\n",
    "clinic_session_name as start_place,\n",
    "null as end_place\n",
    "FROM ' ,targetdb,'.tbl_outpatient src \n",
    "  , ' ,targetdb,'.person c\n",
    "  , ' ,targetdb,'.observation_period obs\n",
    "  where cast(src.person_id as int64)  = c.person_id\n",
    "  and c.person_id = obs.person_id\n",
    "  and src.tbl_outpatient_end_date <= obs.observation_period_end_date\n",
    "  and src.tbl_outpatient_start_date >= obs.observation_period_start_date', sep = \"\")\n",
    "tb77 <- bq_project_query(project_id, sql77)\n",
    "\n",
    "print(\"tbl_outpatient built\")"
   ]
  },
  {
   "cell_type": "code",
   "execution_count": 87,
   "id": "0e7cc499-77d1-461f-bdad-b6c37348b644",
   "metadata": {},
   "outputs": [
    {
     "name": "stdout",
     "output_type": "stream",
     "text": [
      "[1] \"tbl_outpatients_susplus built\"\n"
     ]
    }
   ],
   "source": [
    "#tbl_outpatients_susplus\n",
    "sql78 <-paste(' insert into ' ,targetdb,'.tmp_visit_builder\n",
    "SELECT \"tbl_outpatients_susplus\" as source_table,\n",
    "src.identifier as identifier,\n",
    "src.person_id,\n",
    "\"BRI Outpatients\" as description,\n",
    "tbl_outpatients_susplus_start_date,\n",
    "tbl_outpatients_susplus_end_date,\n",
    "clinic_code as location,\n",
    "null as start_place,\n",
    "null as end_place\n",
    "FROM ' ,targetdb,'.tbl_outpatients_susplus src \n",
    "  , ' ,targetdb,'.person c\n",
    "  , ' ,targetdb,'.observation_period obs\n",
    "  where cast(src.person_id as int64)  = c.person_id\n",
    "  and c.person_id = obs.person_id\n",
    "  and src.tbl_outpatients_susplus_end_date <= obs.observation_period_end_date\n",
    "  and src.tbl_outpatients_susplus_start_date >= obs.observation_period_start_date', sep = \"\")\n",
    "tb78 <- bq_project_query(project_id, sql78)\n",
    "\n",
    "print(\"tbl_outpatients_susplus built\")"
   ]
  },
  {
   "cell_type": "code",
   "execution_count": 88,
   "id": "2f8eb0cc-9569-462f-b1df-8fda815c5207",
   "metadata": {},
   "outputs": [
    {
     "name": "stdout",
     "output_type": "stream",
     "text": [
      "[1] \"tbl_pharmacy built\"\n"
     ]
    }
   ],
   "source": [
    "#tbl_pharmacy\n",
    "sql79 <-paste(' insert into ' ,targetdb,'.tmp_visit_builder\n",
    "SELECT \"tbl_pharmacy\" as source_table,\n",
    "src.unique_pharmacy_number as identifier,\n",
    "src.person_id,\n",
    "\"BRI Pharmacy\" as description,\n",
    "tbl_pharmacy_start_date,\n",
    "tbl_pharmacy_end_date,\n",
    "null as location,\n",
    "issue_source_description as start_place,\n",
    "null as end_place\n",
    "FROM ' ,targetdb,'.tbl_pharmacy src \n",
    "  , ' ,targetdb,'.person c\n",
    "  , ' ,targetdb,'.observation_period obs\n",
    "  where cast(src.person_id as int64)  = c.person_id\n",
    "  and c.person_id = obs.person_id\n",
    "  and src.tbl_pharmacy_end_date <= obs.observation_period_end_date\n",
    "  and src.tbl_pharmacy_start_date >= obs.observation_period_start_date', sep = \"\")\n",
    "tb79 <- bq_project_query(project_id, sql79)\n",
    "\n",
    "print(\"tbl_pharmacy built\")"
   ]
  },
  {
   "cell_type": "code",
   "execution_count": 89,
   "id": "07258ffa-d576-43c0-9dc3-4dfa6599ba8d",
   "metadata": {},
   "outputs": [
    {
     "name": "stdout",
     "output_type": "stream",
     "text": [
      "[1] \"tbl_radiology built\"\n"
     ]
    }
   ],
   "source": [
    "#tbl_radiology\n",
    "sql80 <-paste(' insert into ' ,targetdb,'.tmp_visit_builder\n",
    "SELECT \"tbl_radiology\" as source_table,\n",
    "src.identifier as identifier,\n",
    "src.person_id,\n",
    "\"BRI Radiology\" as description,\n",
    "tbl_radiology_start_date,\n",
    "tbl_radiology_end_date,\n",
    "\"BRI Radiology\" as location,\n",
    "null as start_place,\n",
    "null as end_place\n",
    "FROM ' ,targetdb,'.tbl_radiology src \n",
    "  , ' ,targetdb,'.person c\n",
    "  , ' ,targetdb,'.observation_period obs\n",
    "  where cast(src.person_id as int64)  = c.person_id\n",
    "  and c.person_id = obs.person_id\n",
    "  and src.tbl_radiology_end_date <= obs.observation_period_end_date\n",
    "  and src.tbl_radiology_start_date >= obs.observation_period_start_date', sep = \"\")\n",
    "tb80 <- bq_project_query(project_id, sql80)\n",
    "\n",
    "print(\"tbl_radiology built\")"
   ]
  },
  {
   "cell_type": "code",
   "execution_count": 90,
   "id": "acf81b18-4d1d-4be2-ad1c-4904829fb7b5",
   "metadata": {},
   "outputs": [
    {
     "name": "stdout",
     "output_type": "stream",
     "text": [
      "[1] \"tbl_spell built\"\n"
     ]
    }
   ],
   "source": [
    "#tbl_spell\n",
    "sql81 <-paste(' insert into ' ,targetdb,'.tmp_visit_builder\n",
    "SELECT \"tbl_spell\" as source_table,\n",
    "src.spell_number as identifier,\n",
    "src.person_id,\n",
    "\"BRI Spells\" as description,\n",
    "tbl_spell_start_date,\n",
    "tbl_spell_end_date,\n",
    "admission_method_local_desc as location,\n",
    "admission_source_local_desc as start_place,\n",
    "discharge_destination_local_desc as end_place\n",
    "FROM ' ,targetdb,'.tbl_spell src \n",
    "  , ' ,targetdb,'.person c\n",
    "  , ' ,targetdb,'.observation_period obs\n",
    "  where cast(src.person_id as int64)  = c.person_id\n",
    "  and c.person_id = obs.person_id\n",
    "  and src.tbl_spell_end_date <= obs.observation_period_end_date\n",
    "  and src.tbl_spell_start_date >= obs.observation_period_start_date', sep = \"\")\n",
    "tb81 <- bq_project_query(project_id, sql81)\n",
    "\n",
    "print(\"tbl_spell built\")\n"
   ]
  },
  {
   "cell_type": "code",
   "execution_count": 92,
   "id": "43ae8a0a-b802-44dd-976b-0f5b4eb5f64a",
   "metadata": {},
   "outputs": [
    {
     "name": "stdout",
     "output_type": "stream",
     "text": [
      "[1] \"tbl_maternity_pathway_postnatal built\"\n"
     ]
    }
   ],
   "source": [
    "#tbl_theatre\n",
    "sql82 <-paste(' insert into ' ,targetdb,'.tmp_visit_builder\n",
    "SELECT \"tbl_theatre\" as source_table,\n",
    "src.spell_number as identifier,\n",
    "src.person_id,\n",
    "\"BRI Theatres\" as description,\n",
    "tbl_theatre_start_date,\n",
    "tbl_theatre_end_date,\n",
    "theatre as location,\n",
    "ward_name as start_place,\n",
    "ward_name as end_place\n",
    "FROM ' ,targetdb,'.tbl_theatre src \n",
    "  , ' ,targetdb,'.person c\n",
    "  , ' ,targetdb,'.observation_period obs\n",
    "  where cast(src.person_id as int64)  = c.person_id\n",
    "  and c.person_id = obs.person_id\n",
    "  and src.tbl_theatre_end_date <= obs.observation_period_end_date\n",
    "  and src.tbl_theatre_start_date >= obs.observation_period_start_date', sep = \"\")\n",
    "tb82 <- bq_project_query(project_id, sql82)\n",
    "\n",
    "print(\"tbl_theatre built\")"
   ]
  },
  {
   "cell_type": "code",
   "execution_count": 94,
   "id": "e61531a9-467e-4cda-a9a4-3114fac1c7ba",
   "metadata": {},
   "outputs": [
    {
     "name": "stdout",
     "output_type": "stream",
     "text": [
      "[1] \"tbl_ward_stay built\"\n"
     ]
    }
   ],
   "source": [
    "#tbl_ward_stay\n",
    "sql83 <-paste(' insert into ' ,targetdb,'.tmp_visit_builder\n",
    "SELECT \"tbl_ward_stay\" as source_table,\n",
    "src.spell_number as identifier,\n",
    "src.person_id,\n",
    "\"BRI Ward stays\" as description,\n",
    "tbl_ward_stay_start_date,\n",
    "tbl_ward_stay_end_date,\n",
    "ward as location,\n",
    "null as start_place,\n",
    "null as end_place\n",
    "FROM ' ,targetdb,'.tbl_ward_stay src \n",
    "  , ' ,targetdb,'.person c\n",
    "  , ' ,targetdb,'.observation_period obs\n",
    "  where cast(src.person_id as int64)  = c.person_id\n",
    "  and c.person_id = obs.person_id\n",
    "  and src.tbl_ward_stay_end_date <= obs.observation_period_end_date\n",
    "  and src.tbl_ward_stay_start_date >= obs.observation_period_start_date', sep = \"\")\n",
    "tb83 <- bq_project_query(project_id, sql83)\n",
    "\n",
    "print(\"tbl_ward_stay built\")\n",
    "\n",
    "\n",
    "\n"
   ]
  },
  {
   "cell_type": "code",
   "execution_count": 116,
   "id": "a1b99636-77e3-4180-9fb7-768f49167c57",
   "metadata": {},
   "outputs": [
    {
     "name": "stdout",
     "output_type": "stream",
     "text": [
      "[1] \"visit occurrence  built\"\n"
     ]
    }
   ],
   "source": [
    "#Qapp_Warehouse FDM_Visit_Occurrences_ALL\n",
    "\n",
    "\n",
    "#amended to sql <-paste(' insert everything into the occurrences table \n",
    "\n",
    "sql84 <-paste(' truncate table ' ,targetdb,'.visit_occurrence ', sep = \"\")\n",
    "tb84 <- bq_project_query(project_id, sql84)\n",
    "\n",
    "sql85 <-paste(' insert into ' ,targetdb,'.visit_occurrence \n",
    "(      person_id\n",
    "      ,visit_occurrence_id\n",
    "      ,table\n",
    "      ,clinicaldataid -- the actual rowidentifier from the source table \n",
    "      ,rowid\n",
    "      ,visitstartdate\n",
    "      ,visitstartdatetime\n",
    "      ,visitenddate\n",
    "      ,visitenddatetime\n",
    "      ,visitstartplace\n",
    "      ,visitendplace\n",
    "      ,visitlocation\n",
    "      ,care_site_id\n",
    "      ,visitprovider\n",
    "      ,provider_id\n",
    "      ,visitdesc\n",
    "      ,visit_source_concept_id\n",
    ")\n",
    "select distinct person_id\n",
    "      ,FARM_FINGERPRINT(person_id || source_table_identifier)     as visit_occurrence_id\n",
    "      ,source_table\n",
    "      ,source_table_identifier  as clinicaldataid \n",
    "      ,source_table_identifier  as rowid\n",
    "      ,cast(visitstartdate as date) as visitstartdate\n",
    "      ,visitstartdate  as visitstartdatetime\n",
    "      ,cast(visitenddate as date)  as visitenddate\n",
    "      ,visitenddate as visitenddatetime\n",
    "      ,visitstartplace as visitstartplace\n",
    "      ,visitendplace  as visitendplace\n",
    "      ,visitlocation  as visitlocation\n",
    "      ,null  as care_site_id\n",
    "      ,\"null\" as visitprovider\n",
    "      ,null as provider_id\n",
    "      ,visit_description as visitdesc\n",
    "      ,38004693 as visit_source_concept_id\n",
    "   from ' ,targetdb,'.tmp_visit_builder vb' , sep = \"\")\n",
    "\n",
    "tb85 <- bq_project_query(project_id, sql85)\n",
    "\n",
    "print (\"visit occurrence  built\")\n",
    "#This section builds the imosphere version of the visit_occurrence table"
   ]
  },
  {
   "cell_type": "code",
   "execution_count": null,
   "id": "d7a5afbd-8d24-446f-9478-44426675774a",
   "metadata": {},
   "outputs": [],
   "source": [
    "\n",
    "fred <-paste('FDM Build of',targetdb,'finished')\n",
    "print (fred)"
   ]
  }
 ],
 "metadata": {
  "environment": {
   "kernel": "ir",
   "name": "r-cpu.4-1.m90",
   "type": "gcloud",
   "uri": "gcr.io/deeplearning-platform-release/r-cpu.4-1:m90"
  },
  "kernelspec": {
   "display_name": "R",
   "language": "R",
   "name": "ir"
  },
  "language_info": {
   "codemirror_mode": "r",
   "file_extension": ".r",
   "mimetype": "text/x-r-source",
   "name": "R",
   "pygments_lexer": "r",
   "version": "4.1.3"
  }
 },
 "nbformat": 4,
 "nbformat_minor": 5
}
